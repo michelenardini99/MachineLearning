{
 "cells": [
  {
   "cell_type": "markdown",
   "metadata": {
    "editable": false
   },
   "source": [
    "## Contenuti\n",
    "- [Numpy](#Numpy)\n",
    "    - [Import](#Import)\n",
    "    - [Array](#Array)\n",
    "    - [Shape](#Shape)\n",
    "    - [Reshape](#Reshape)\n",
    "    - [Tipi di dati](#Tipi-di-dati)\n",
    "    - [Slicing](#Slicing)\n",
    "    - [Operazioni algebriche tra vettori](#Operazioni-algebriche-tra-vettori)\n",
    "    - [Operazioni algebriche tra matrici](#Operazioni-algebriche-tra-matrici)\n",
    "        - [Calcolo della trasposta](#Calcolo-della-trasposta)\n",
    "        - [Calcolo dell'inversa](#Calcolo-dell'inversa)\n",
    "        - [Calcolo del determinante](#Calcolo-del-determinante)\n",
    "        - [Somma e sottrazione tra matrici](#Somma-e-sottrazione-tra-matrici)\n",
    "        - [Moltiplicazione matriciale](#Moltiplicazione-matriciale)\n",
    "        - [Prodotto scalare](#Prodotto-scalare)\n",
    "    - [Operazioni avanzate](#Operazioni-avanzate)\n",
    "        - [Media e deviazione standard di un vettore](#Media-e-deviazione-standard-di-un-vettore)\n",
    "        - [Trasformazione in scalare](#Trasformazione-in-scalare)\n",
    "        - [Prodotto di vettori](#Prodotto-di-vettori)\n",
    "        - [Somma degli elementi](#Somma-degli-elementi)\n",
    "        - [Minimi e massimi di una matrice](#Minimi-e-massimi-di-una-matrice)\n",
    "- [Il classificatore Bayesiano parametrico](#Il-classificatore-Bayesiano-parametrico)\n",
    "    - [Import delle librerie](#Import-delle-librerie)\n",
    "    - [Definizione del training set e del pattern di test](#Definizione-del-training-set-e-del-pattern-di-test)\n",
    "    - [Calcolo del vettore medio](#Calcolo-del-vettore-medio)\n",
    "    - [Calcolo della matrice di covarianza](#Calcolo-della-matrice-di-covarianza)\n",
    "    - [Calcolo della densità di probabilità condizionale](#Calcolo-della-densità-di-probabilità-condizionale)\n",
    "    - [Probabilità a posteriori](#Probabilità-a-posteriori)\n",
    "        - [Probabilità a priori](#Probabilità-a-priori)\n",
    "        - [Densità di probabilità assoluta](#Densità-di-probabilità-assoluta)\n",
    "    - [Visualizzazione dei risultati](#Visualizzazione-dei-risultati)"
   ]
  },
  {
   "cell_type": "markdown",
   "metadata": {
    "editable": false
   },
   "source": [
    "# Esercitazione 2\n",
    "La lezione odierna è suddivisa in due parti:\n",
    "1. introduzione alla libreria **Numpy**\n",
    "2. implementazione di un classificatore Bayesiano binario\n",
    "\n",
    "\n",
    "# Numpy\n",
    "Numpy è una libreria del linguaggio Python che permette di definire e manipolare vettori e matrici multidimensionali. \n",
    "\n",
    "Per via della sua facilità d'uso e del gran numero di operazioni messe a disposizione *out-of-the-box*, Numpy è diventato un punto di riferimento per qualsiasi applicazione di tipo scientifico. Questa libreria nasce con l'intento di sopperire alle mancanze delle strutture dati messe a disposizione nativamente da Python che risultano poco adatte ad applicazioni matematiche.\n",
    "\n",
    "Di seguito vengono esposte le principali funzionalità messe a disposizione da Numpy. Per una lista completa si rimanda alla [documentazione ufficiale](https://docs.scipy.org/doc/numpy/reference/index.html).\n",
    "\n",
    "## Import\n",
    "\n",
    "Per prima cosa è necessario eseguire l'import del relativo modulo. La libreria viene convenzionalmente importata con il nome **np**."
   ]
  },
  {
   "cell_type": "code",
   "execution_count": 85,
   "metadata": {},
   "outputs": [],
   "source": [
    "import numpy as np"
   ]
  },
  {
   "cell_type": "markdown",
   "metadata": {
    "editable": false
   },
   "source": [
    "## Array\n",
    "\n",
    "Al contrario delle liste di Python, gli array di Numpy (**ndarray** - *n-dimensional array*) sono omogenei, cioè possono contenere solamente elementi dello stesso tipo. Inoltre le operazioni aritmetiche e di manipolazione messe a disposizione risultano essere particolarmente ottimizzate.\n",
    "\n",
    "L'inizializzazione di un **ndarray** è affidata alla funzione **array(...)**. Nella sua versione base la funzione accetta come parametro una lista di valori."
   ]
  },
  {
   "cell_type": "code",
   "execution_count": 86,
   "metadata": {},
   "outputs": [
    {
     "name": "stdout",
     "output_type": "stream",
     "text": [
      "<class 'numpy.ndarray'>\n",
      "Contenuto di vector: [0 1 2 3 4 5]\n"
     ]
    }
   ],
   "source": [
    "# Definisce un vettore contenente gli elementi da 0 a 5\n",
    "vector = np.array([0, 1, 2, 3, 4, 5])\n",
    "print(type(vector))\n",
    "print('Contenuto di vector:', vector)"
   ]
  },
  {
   "cell_type": "markdown",
   "metadata": {
    "editable": false
   },
   "source": [
    "Si noti che in Numpy un array monodimensionale viene rappresentato come vettore **riga** (mentre solitamente in matematica quando si parla di vettori ci si riferisce a vettori colonna). \n",
    "\n",
    "È possibile accedere ai singoli elementi con la sintassi vista per liste e tuple:"
   ]
  },
  {
   "cell_type": "code",
   "execution_count": null,
   "metadata": {},
   "outputs": [],
   "source": [
    "# Accesso in lettura\n",
    "print(vector[0])\n",
    "\n",
    "# Accesso in scrittura\n",
    "vector[2] = 5\n",
    "print(vector)\n",
    "\n",
    "vector = np.array([0, 1, 2, 3, 4, 5]) # Ripristina i valori originali"
   ]
  },
  {
   "cell_type": "markdown",
   "metadata": {
    "editable": false
   },
   "source": [
    "Numpy è in grado di gestire **ndarray** multidimensionali.\n",
    "\n",
    "Di seguito un esempio di dichiarazione di un **ndarray** bi-dimensionale, cioè una matrice. È possibile dichiarare una matrice utilizzando la funzione **array(...)**. In questo caso il parametro consiste in una lista di liste: ogni sottolista descrive il contenuto di una riga. Le liste devono essere di lunghezza identica."
   ]
  },
  {
   "cell_type": "code",
   "execution_count": 4,
   "metadata": {},
   "outputs": [
    {
     "name": "stdout",
     "output_type": "stream",
     "text": [
      "Contenuto della matrice:\n",
      " [[0 1 2]\n",
      " [3 4 5]]\n",
      "5\n",
      "5\n"
     ]
    }
   ],
   "source": [
    "# Dichiarazione di una matrix 2x3\n",
    "matrix = np.array([[0,1,2], [3,4,5]])\n",
    "print('Contenuto della matrice:\\n', matrix)\n",
    "\n",
    "# Accesso agli elementi di una matrice\n",
    "print(matrix[1][2])\n",
    "# Sintassi equivalente\n",
    "print(matrix[1, 2])"
   ]
  },
  {
   "cell_type": "markdown",
   "metadata": {
    "editable": false
   },
   "source": [
    "Numpy mette a disposizione diverse funzioni per la creazione degli array:"
   ]
  },
  {
   "cell_type": "code",
   "execution_count": 5,
   "metadata": {},
   "outputs": [
    {
     "name": "stdout",
     "output_type": "stream",
     "text": [
      "Zeros:\n",
      " [[0. 0.]\n",
      " [0. 0.]]\n",
      "\n",
      "Ones:\n",
      " [[1. 1.]]\n",
      "\n",
      "Full:\n",
      " [[7 7]\n",
      " [7 7]]\n",
      "\n",
      "Eye:\n",
      " [[1. 0. 0.]\n",
      " [0. 1. 0.]\n",
      " [0. 0. 1.]]\n",
      "\n",
      "Random:\n",
      " [[0.52250469 0.11613444 0.03521488]\n",
      " [0.99407713 0.70598823 0.56916976]\n",
      " [0.72399734 0.97997262 0.5579037 ]\n",
      " [0.29734019 0.73598404 0.52744124]]\n"
     ]
    }
   ],
   "source": [
    "# Dichiarazione di una matrice 2x2 inizializzata con tutti gli elementi a 0 \n",
    "a = np.zeros((2,2))   \n",
    "print('Zeros:\\n', a)\n",
    "print() \n",
    "        \n",
    "# Dichiarazione di una matrice 1x2 inizializzata con tutti gli elementi a 1 \n",
    "b = np.ones((1,2))    \n",
    "print('Ones:\\n', b)\n",
    "print() \n",
    "\n",
    "# Dichiarazione di una matrice 2x2 inizializzata con tutti gli elementi a un valore costante \n",
    "c = np.full((2,2), 7)  \n",
    "print('Full:\\n', c)\n",
    "print() \n",
    "\n",
    "# Dichiarazione di una matrice identità 3x3\n",
    "d = np.eye(3)\n",
    "print('Eye:\\n', d)\n",
    "print() \n",
    "\n",
    "# Dichiarazione di una matrice 4x3 contenete valori casuali\n",
    "e = np.random.random((4,3))\n",
    "print('Random:\\n', e)"
   ]
  },
  {
   "cell_type": "markdown",
   "metadata": {
    "editable": false
   },
   "source": [
    "## Shape\n",
    "Si definisce **rank** il numero di dimensioni di un array e **shape** una tupla di interi che esprimono la lunghezza di ciascuna dimensione.\n",
    "\n",
    "Per comprendere meglio questo concetto si consideri la variabile *vector*: si tratta di un vettore di *rank* 1 e *shape* (6,) (cioè una tupla contenente un solo elemento).\n",
    "\n",
    "Per ottenere la *shape* di un **ndarray** è sufficiente accederne al relativo attributo, come mostrato nella cella seguente:"
   ]
  },
  {
   "cell_type": "code",
   "execution_count": 6,
   "metadata": {},
   "outputs": [
    {
     "name": "stdout",
     "output_type": "stream",
     "text": [
      "Rank di vector: 1\n",
      "Shape di vector : (6,)\n",
      "Rank di matrix: 2\n",
      "Shape di matrix : (2, 3)\n"
     ]
    }
   ],
   "source": [
    "print('Rank di vector:', len(vector.shape))\n",
    "print('Shape di vector :', vector.shape)\n",
    "\n",
    "print('Rank di matrix:', len(matrix.shape))\n",
    "print('Shape di matrix :', matrix.shape)"
   ]
  },
  {
   "cell_type": "markdown",
   "metadata": {
    "editable": false
   },
   "source": [
    "## Reshape\n",
    "Un **ndarray** può essere manipolato in maniera tale da poter creare un array con *shape* differente a partire dal contenuto iniziale.\n",
    "\n",
    "Nell'esempio che segue *vector* è trasformato nell'equivalente vettore colonna utilizzando la funzione **reshape(...)**."
   ]
  },
  {
   "cell_type": "code",
   "execution_count": 87,
   "metadata": {},
   "outputs": [
    {
     "name": "stdout",
     "output_type": "stream",
     "text": [
      "Contenuto di column_vector:\n",
      " [[0]\n",
      " [1]\n",
      " [2]\n",
      " [3]\n",
      " [4]\n",
      " [5]]\n",
      "vector originale: [0 1 2 3 4 5]\n"
     ]
    }
   ],
   "source": [
    "# Trasformazione in vettore colonna\n",
    "column_vector = vector.reshape((6, 1))\n",
    "\n",
    "print('Contenuto di column_vector:\\n', column_vector)\n",
    "\n",
    "# Nota: l'array originale non è stato modificato\n",
    "print('vector originale:', vector)"
   ]
  },
  {
   "cell_type": "markdown",
   "metadata": {
    "editable": false
   },
   "source": [
    "Il parametro della funzione **reshape(...)** deve essere una tupla che descrive la *shape* dell'array di output. In questo caso si vuole che gli stessi dati contenuti in *row_vector* vengano utilizzati per creare una matrice di 6 righe e 1 colonna. Il risultato si riflette nell'attributo shape del vettore ottenuto:"
   ]
  },
  {
   "cell_type": "code",
   "execution_count": null,
   "metadata": {
    "scrolled": true
   },
   "outputs": [],
   "source": [
    "print('Rank vettore colonna:', len(column_vector.shape))\n",
    "print('Shape vettore colonna:', column_vector.shape)"
   ]
  },
  {
   "cell_type": "markdown",
   "metadata": {
    "editable": false,
    "homework": true
   },
   "source": [
    "A partire dal vettore colonna è possibile riottenere il relativo vettore riga utilizzando nuovamente utilizzando la funzione **reshape(...)**."
   ]
  },
  {
   "cell_type": "code",
   "execution_count": null,
   "metadata": {
    "homework": true
   },
   "outputs": [],
   "source": [
    "row_vector = column_vector.reshape((1, 6))\n",
    "\n",
    "print('Contenuto di row_vector:\\n', row_vector)\n",
    "print('Rank di row_vector:', len(row_vector.shape))\n",
    "print('Shape di row_vector:', row_vector.shape)"
   ]
  },
  {
   "cell_type": "markdown",
   "metadata": {
    "editable": false,
    "homework": true
   },
   "source": [
    "Nota: il *row_vector* così ottenuto non è identico al *vector* originale. Si noti come **print(...)** restituisca *\\[\\[0 1 2 3 4 5\\]\\]* per *row_vector* e *\\[0 1 2 3 4 5\\]* per *vector*.\n",
    "\n",
    "Questo è dovuto al fatto che *row_vector* ha dimensioni *(1, 6)* mentre *vector* ha dimensioni *(6,)*. In altre parole *row_vector* è una matrice 1x6 mentre *vector* è un array monodimensionale (o vettore riga).\n",
    "\n",
    "La seguente operazione restituirà esattamente il vettore originale. "
   ]
  },
  {
   "cell_type": "code",
   "execution_count": null,
   "metadata": {
    "homework": true
   },
   "outputs": [],
   "source": [
    "print(column_vector.reshape( (6,) ))\n",
    "\n",
    "# Per array monodimensionali è possibile passare a reshape(...) un singolo valore\n",
    "print(column_vector.reshape(  6  ))"
   ]
  },
  {
   "cell_type": "markdown",
   "metadata": {
    "editable": false,
    "homework": true
   },
   "source": [
    "## Tipi di dati\n",
    "Gli array di Numpy sono una griglia di elementi dello stesso tipo. Il tipo di dato degli elementi viene automaticamente inferito da Numpy oppure può essere specificato nella funzione di inizializzazione come parametro opzionale:"
   ]
  },
  {
   "cell_type": "code",
   "execution_count": 7,
   "metadata": {
    "homework": true
   },
   "outputs": [
    {
     "name": "stdout",
     "output_type": "stream",
     "text": [
      "int32\n",
      "float64\n",
      "int64\n"
     ]
    }
   ],
   "source": [
    "x = np.array([1, 2]) # Numpy sceglie il tipo di dati\n",
    "print(x.dtype)\n",
    "\n",
    "x = np.array([1.0, 2.0]) # Numpy sceglie il tipo di dati\n",
    "print(x.dtype)\n",
    "\n",
    "x = np.array([1, 2], dtype=np.int64) # Forza un tipo di dati                    \n",
    "print(x.dtype)"
   ]
  },
  {
   "cell_type": "markdown",
   "metadata": {
    "editable": false
   },
   "source": [
    "## Slicing\n",
    "Lo *slicing* si applica anche agli **ndarray** ma, a differenza di quanto avviene per le liste, è possibile applicarlo a ogni dimensione dell'array."
   ]
  },
  {
   "cell_type": "code",
   "execution_count": 8,
   "metadata": {},
   "outputs": [
    {
     "name": "stdout",
     "output_type": "stream",
     "text": [
      "[[ 1  2  3  4]\n",
      " [ 5  6  7  8]\n",
      " [ 9 10 11 12]]\n",
      "\n",
      "[[2 3]\n",
      " [6 7]]\n",
      "\n",
      "2\n",
      "77\n"
     ]
    }
   ],
   "source": [
    "# Crea un ndarray bi-dimensionale di shape (3, 4)\n",
    "a = np.array([[1,2,3,4], [5,6,7,8], [9,10,11,12]])\n",
    "print(a)\n",
    "print()\n",
    "\n",
    "# Slicing per ottenere una sotto-matrice formata dagli elementi\n",
    "# delle prime 2 righe in corrispondenza delle colonne 1 e 2\n",
    "b = a[:2, 1:3]\n",
    "print(b)\n",
    "print()\n",
    "\n",
    "# Uno slice crea una vista, non una copia dei dati\n",
    "# Modificare uno slice equivale a modificare l'ndarray originale\n",
    "print(a[0, 1])\n",
    "b[0, 0] = 77\n",
    "print(a[0, 1])"
   ]
  },
  {
   "cell_type": "markdown",
   "metadata": {
    "editable": false
   },
   "source": [
    "## Operazioni algebriche tra vettori\n",
    "Numpy mette a disposizione le più comuni operazioni algebriche attraverso gli operatori visti per le variabili numeriche (+, -, *, /):"
   ]
  },
  {
   "cell_type": "code",
   "execution_count": 9,
   "metadata": {},
   "outputs": [
    {
     "name": "stdout",
     "output_type": "stream",
     "text": [
      "Prodotto per uno scalare:\n",
      " [ 0  5 10 15 20 25]\n",
      "Divisione per uno scalare:\n",
      " [0.  0.2 0.4 0.6 0.8 1. ]\n"
     ]
    }
   ],
   "source": [
    "# Reminder: vector = [0, 1, 2, 3, 4, 5]\n",
    "\n",
    "# Moltiplicazione di un vettore per uno scalare\n",
    "vector_scalar_prod = vector * 5\n",
    "\n",
    "# Divisione di un vettore per uno scalare\n",
    "vector_scalar_div = vector / 5\n",
    "\n",
    "print('Prodotto per uno scalare:\\n', vector_scalar_prod)\n",
    "print('Divisione per uno scalare:\\n', vector_scalar_div)"
   ]
  },
  {
   "cell_type": "code",
   "execution_count": null,
   "metadata": {},
   "outputs": [],
   "source": [
    "vect1 = np.array([1,2,6])\n",
    "vect2 = np.array([5,2,3])\n",
    "\n",
    "# Somma tra vettori\n",
    "vector_sum = vect1 + vect2\n",
    "\n",
    "# Sottrazione tra vettori\n",
    "vector_sub = vect1 - vect2\n",
    "\n",
    "print('Somma:\\n', vector_sum)\n",
    "print('Sottrazione:\\n', vector_sub)"
   ]
  },
  {
   "cell_type": "markdown",
   "metadata": {
    "editable": false
   },
   "source": [
    "Nota: l'operatore *'+'*, quando applicato a due liste \"native\" di Python, esegue una concatenazione. Tuttavia se lo stesso operatore viene applicato a due **ndarray** quella che si ottiene è una somma algebrica."
   ]
  },
  {
   "cell_type": "markdown",
   "metadata": {
    "editable": false
   },
   "source": [
    "## Operazioni algebriche tra matrici\n",
    "Come già accennato, le matrici possono essere rappresentate tramite **ndarray** di *rank* 2. Numpy mette a disposizione diverse funzioni frequentemente utilizzate nel calcolo matriciale quali: calcolo della trasposta, dell'inversa, del determinante, del prodotto tra matrici, ecc."
   ]
  },
  {
   "cell_type": "markdown",
   "metadata": {
    "editable": false
   },
   "source": [
    "### Calcolo della trasposta\n",
    "È possibile calcolare la trasposta di una matrice richiamando il metodo **.transpose(...)**, oppure utilizzando l'attributo **.T**. In alternativa è anche disponibile la relativa funzione di libreria **np.transpose(...)**."
   ]
  },
  {
   "cell_type": "code",
   "execution_count": null,
   "metadata": {},
   "outputs": [],
   "source": [
    "matrix = np.array([[0,1,2], [3,4,5]])\n",
    "print('Matrix:\\n', matrix)\n",
    "\n",
    "# Calcolo della trasposta\n",
    "matrix_transp = matrix.transpose()\n",
    "print('\\nTrasposta di matrix:\\n', matrix_transp)\n",
    "\n",
    "# In maniera equivalente\n",
    "matrix_transp = matrix.T\n",
    "matrix_transp = np.transpose(matrix)"
   ]
  },
  {
   "cell_type": "markdown",
   "metadata": {
    "editable": false
   },
   "source": [
    "### Calcolo dell'inversa\n",
    "È possibile calcolare l'inversa di una matrice utilizzando la funzione di libreria **np.linalg.inv(...)**."
   ]
  },
  {
   "cell_type": "code",
   "execution_count": null,
   "metadata": {
    "scrolled": true
   },
   "outputs": [],
   "source": [
    "# Definizione di una matrice quadrata\n",
    "matrix2 = np.array([[12,-1,0],\n",
    "                    [7,6,-5],\n",
    "                    [1,6,9]])\n",
    "\n",
    "# Calcolo dell'inversa\n",
    "matrix2_inv = np.linalg.inv(matrix2)           \n",
    "print('Inversa matrix2:\\n', matrix2_inv)"
   ]
  },
  {
   "cell_type": "markdown",
   "metadata": {
    "editable": false
   },
   "source": [
    "### Calcolo del determinante\n",
    "È possibile calcolare il determinante di una matrice utilizzando la funzione di libreria **np.linalg.det(...)**."
   ]
  },
  {
   "cell_type": "code",
   "execution_count": null,
   "metadata": {},
   "outputs": [],
   "source": [
    "# Calcolo del determinante\n",
    "matrix2_det = np.linalg.det(matrix2)\n",
    "print('Determinante matrix2:', matrix2_det)"
   ]
  },
  {
   "cell_type": "markdown",
   "metadata": {
    "editable": false
   },
   "source": [
    "### Somma e sottrazione tra matrici\n",
    "Esattamente come visto per i vettori, la somma tra matrici è delegata all'operatore \"**+**\"."
   ]
  },
  {
   "cell_type": "code",
   "execution_count": null,
   "metadata": {},
   "outputs": [],
   "source": [
    "# Reminder: matrix = np.array([[0,1,2], [3,4,5]])\n",
    "print('matrix:\\n', matrix)\n",
    "print()\n",
    "\n",
    "# Somma e sottrazione (elemento per elemento) di due matrici\n",
    "matrix3 = np.array([[5,2,6],\n",
    "                    [8,12,1]])\n",
    "print('matrix3:\\n', matrix3)\n",
    "print()\n",
    "\n",
    "matrix_sum = matrix + matrix3\n",
    "print('Somma:\\n', matrix_sum)\n",
    "print()\n",
    "\n",
    "matrix_sub = matrix - matrix3\n",
    "print('Sottrazione:\\n', matrix_sub)"
   ]
  },
  {
   "cell_type": "markdown",
   "metadata": {
    "editable": false
   },
   "source": [
    "### Moltiplicazione matriciale\n",
    "La moltiplicazione matriciale è affidata al metodo **.dot(...)**. Questo metodo deve essere richiamato sulla matrice sinistra passando come parametro la matrice destra. In alternativa è possibile utilizzare la funzione di libreria **np.dot(...)** oppure l'operatore **@**."
   ]
  },
  {
   "cell_type": "code",
   "execution_count": null,
   "metadata": {
    "scrolled": true
   },
   "outputs": [],
   "source": [
    "# Reminder: matrix = [[0,1,2], \n",
    "#                      [3,4,5]]\n",
    "#\n",
    "#           matrix2 = [[12,-1,0],\n",
    "#                      [7,6,-5],\n",
    "#                      [1,6,9]]\n",
    "print('matrix:\\n', matrix)\n",
    "\n",
    "print('\\nmatrix2:\\n', matrix2)\n",
    "\n",
    "# Moltiplicazione matriciale tra le matrici \"matrix1\" e \"matrix2\"\n",
    "mul1 = matrix.dot(matrix2)\n",
    "print('\\nMoltiplicazione tra matrici:\\n', mul1)\n",
    "\n",
    "# In maniera equivalente\n",
    "mul2 = np.dot(matrix, matrix2)\n",
    "mul2 = matrix @ matrix2"
   ]
  },
  {
   "cell_type": "markdown",
   "metadata": {
    "editable": false
   },
   "source": [
    "### Prodotto scalare\n",
    "Utilizzando il metodo **.dot(...)** tra un vettore riga e un vettore colonna è possibile calcolare il loro prodotto scalare."
   ]
  },
  {
   "cell_type": "code",
   "execution_count": null,
   "metadata": {},
   "outputs": [],
   "source": [
    "# Prodotto scalare di due vettori (riga*colonna)\n",
    "row_vector = column_vector.reshape((1, 6))\n",
    "\n",
    "mul2 = row_vector.dot(column_vector)\n",
    "print('mul2:', mul2)"
   ]
  },
  {
   "cell_type": "markdown",
   "metadata": {
    "editable": false
   },
   "source": [
    "Attenzione perchè Numpy non restituisce un valore scalare ma una matrice di dimensione 1x1."
   ]
  },
  {
   "cell_type": "code",
   "execution_count": null,
   "metadata": {},
   "outputs": [],
   "source": [
    "print(mul2.shape)"
   ]
  },
  {
   "cell_type": "markdown",
   "metadata": {
    "editable": false
   },
   "source": [
    "## Operazioni avanzate\n",
    "Di seguito sono elencate alcune delle operazioni avanzate messe a disposizione da Numpy. Alcune di queste potrebbero essere particolarmente utili per lo svolgimento delle esercitazioni.\n",
    "\n",
    "La [documentazione ufficiale](https://docs.scipy.org/doc/numpy/reference/generated/numpy.ndarray.html) di **ndarray** contiene la lista completa delle operazioni supportate.\n",
    "\n",
    "### Media e deviazione standard di un vettore\n",
    "È possibile calcolare media e deviazione standard utilizzando i metodi **.mean(...)** e **.std(...)**."
   ]
  },
  {
   "cell_type": "code",
   "execution_count": null,
   "metadata": {},
   "outputs": [],
   "source": [
    "print('row_vector:', row_vector)\n",
    "print('Media:', row_vector.mean())\n",
    "print('Deviazione standard:', row_vector.std()) "
   ]
  },
  {
   "cell_type": "markdown",
   "metadata": {
    "editable": false
   },
   "source": [
    "### Trasformazione in scalare\n",
    "È possibile trasformare un **ndarray** 1x1 in uno scalare."
   ]
  },
  {
   "cell_type": "code",
   "execution_count": null,
   "metadata": {},
   "outputs": [],
   "source": [
    "# sc = np.asscalar(mul2)  # Deprecato\n",
    "sc = mul2.item()\n",
    "print('Scalare:', sc)"
   ]
  },
  {
   "cell_type": "markdown",
   "metadata": {
    "editable": false,
    "homework": true
   },
   "source": [
    "### Prodotto di vettori\n",
    "Il prodotto tra vettori è gestito in maniera diversa a seconda della *shape* dei vettori coinvolti. Se entrambi i vettori hanno rango 2, è possibile usare indistintamente **.dot(...)**, **\\*** o **\\@** per eseguire la loro moltiplicazione algebrica. È possibile ottenere lo stesso risultato anche se il vettore di destra (riga) è di rango 1 (il vettore di sinistra deve comunque essere di rango 2): in questo caso è necessario utilizzare l'operatore **\\*** mentre gli operatori **.dot(...)** e **\\@** restituiranno un errore."
   ]
  },
  {
   "cell_type": "code",
   "execution_count": null,
   "metadata": {
    "homework": true,
    "scrolled": true
   },
   "outputs": [],
   "source": [
    "rank_one_vector = np.array([0, 1, 2, 3, 4, 5])\n",
    "print('column_vector shape:', column_vector.shape)\n",
    "print('row_vector shape:', row_vector.shape)\n",
    "print('rank_one_vector shape:', rank_one_vector.shape)\n",
    "print()\n",
    "\n",
    "# Moltiplicazione algebrica tra vettori: entrambi i vettori di rango 2\n",
    "mul3dot = column_vector.dot(row_vector)\n",
    "mul3at = column_vector @ row_vector # <-- In alternativa\n",
    "mul3asterisk = column_vector * row_vector # <-- In alternativa\n",
    "print('mul3dot:\\n', mul3dot)\n",
    "print()\n",
    "print('mul3at:\\n', mul3at)\n",
    "print()\n",
    "print('mul3asterisk:\\n', mul3asterisk)\n",
    "print()\n",
    "\n",
    "# Moltiplicazione algebrica tra vettori: vettore di destra di rango 1\n",
    "mul4 = column_vector * rank_one_vector\n",
    "# mul4 = column_vector @ rank_one_vector # <-- Errore!\n",
    "# mul4 = column_vector.dot(rank_one_vector) # <-- Errore!\n",
    "print('mul4:\\n', mul4)"
   ]
  },
  {
   "cell_type": "markdown",
   "metadata": {
    "editable": false,
    "homework": true
   },
   "source": [
    "Si deve prestare particolare attenzione nel caso in cui entrambi i vettori siano di rango 1: \n",
    "- applicando l'operatore **\\@** si otterrà il prodotto scalare (senza la necessità di utilizzare **.asscalar()**);\n",
    "- utilizzando l'operatore **\\*** si otterrà un nuovo vettore ottenuto moltiplicando elemento per elemento i vettori originali."
   ]
  },
  {
   "cell_type": "code",
   "execution_count": null,
   "metadata": {
    "homework": true
   },
   "outputs": [],
   "source": [
    "# Prodotto scalare (senza usare .asscalar())\n",
    "mul5 = rank_one_vector @ rank_one_vector\n",
    "print('mul5:', mul5)\n",
    "\n",
    "# Moltiplicazione elemento per elemento\n",
    "mul6 = rank_one_vector * rank_one_vector\n",
    "print('mul6:', mul6)"
   ]
  },
  {
   "cell_type": "markdown",
   "metadata": {
    "editable": false,
    "homework": true
   },
   "source": [
    "### Somma degli elementi\n",
    "La somma degli elementi è affidata al metodo **.sum(...)** o alla funzione di libreria **np.sum(...)**."
   ]
  },
  {
   "cell_type": "code",
   "execution_count": 4,
   "metadata": {
    "homework": true
   },
   "outputs": [
    {
     "ename": "NameError",
     "evalue": "name 'row_vector' is not defined",
     "output_type": "error",
     "traceback": [
      "\u001b[1;31m---------------------------------------------------------------------------\u001b[0m",
      "\u001b[1;31mNameError\u001b[0m                                 Traceback (most recent call last)",
      "Cell \u001b[1;32mIn[4], line 2\u001b[0m\n\u001b[0;32m      1\u001b[0m \u001b[38;5;66;03m# Somma degli elementi di un vettore\u001b[39;00m\n\u001b[1;32m----> 2\u001b[0m \u001b[38;5;28mprint\u001b[39m(row_vector)\n\u001b[0;32m      3\u001b[0m \u001b[38;5;28mprint\u001b[39m(\u001b[38;5;124m'\u001b[39m\u001b[38;5;124mSomma:\u001b[39m\u001b[38;5;124m'\u001b[39m, row_vector\u001b[38;5;241m.\u001b[39msum())\n\u001b[0;32m      4\u001b[0m \u001b[38;5;28mprint\u001b[39m()\n",
      "\u001b[1;31mNameError\u001b[0m: name 'row_vector' is not defined"
     ]
    }
   ],
   "source": [
    "# Somma degli elementi di un vettore\n",
    "print(row_vector)\n",
    "print('Somma:', row_vector.sum())\n",
    "print()\n",
    "\n",
    "# Reminder: matrix3 = [[5,2,6],\n",
    "#                      [8,12,1]]\n",
    "print('matrix3:\\n', matrix3)\n",
    "print()\n",
    "\n",
    "# Somma degli elementi di una matrice\n",
    "elements_sum = matrix3.sum()\n",
    "print('Somma:', elements_sum)\n",
    "\n",
    "# Somma degli elementi di una matrice per riga\n",
    "elements_row_sum = matrix3.sum(axis=1)\n",
    "print('Somma per riga:', elements_row_sum)\n",
    "\n",
    "# Somma degli elementi di una matrice per colonna\n",
    "elements_column_sum = matrix3.sum(axis=0)\n",
    "print('Somma per colonna:', elements_column_sum)"
   ]
  },
  {
   "cell_type": "markdown",
   "metadata": {
    "editable": false,
    "homework": true
   },
   "source": [
    "### Minimi e massimi di una matrice\n",
    "Allo stesso modo è possibile ottenere i minimi e i massimi per riga o colonna utilizzando i metodi **.min(...)** e **.max(...)**. Anche per queste sono disponibili le funzioni di libreria **np.min(...)** e **np.max(...)**."
   ]
  },
  {
   "cell_type": "code",
   "execution_count": null,
   "metadata": {
    "homework": true
   },
   "outputs": [],
   "source": [
    "row_vector2 = np.array([0, 1, 2, 3, 4, 5])\n",
    "print('row_vector2:', row_vector2)\n",
    "\n",
    "print('Minimo:', row_vector2.min())\n",
    "print('Massimo:', row_vector2.max())\n",
    "print()\n",
    "\n",
    "# Reminder: matrix3 = [[5,2,6],\n",
    "#                      [8,12,1]]\n",
    "print('matrix3:\\n', matrix3)\n",
    "\n",
    "# Minimi delle righe di una matrice\n",
    "mins = matrix3.min(axis=1)\n",
    "print('Minimi delle righe:', mins)\n",
    "\n",
    "# Massimi delle colonne di una matrice\n",
    "maxs = matrix3.max(axis=0)\n",
    "print('Massimi delle colonne:', maxs)"
   ]
  },
  {
   "cell_type": "markdown",
   "metadata": {
    "editable": false,
    "homework": true
   },
   "source": [
    "Se invece si desidera ottenere gli indici di tali elementi, è possibile utilizzare i metodi **.argmin(...)** e **.argmax(...)**."
   ]
  },
  {
   "cell_type": "code",
   "execution_count": null,
   "metadata": {
    "homework": true
   },
   "outputs": [],
   "source": [
    "# Indici posizionali dei minimi delle righe di una matrice\n",
    "min_indices = matrix3.argmin(axis=1)\n",
    "print('Indici dei minimi:\\n', min_indices)\n",
    "\n",
    "# Indici posizionali dei massimi delle colonne di una matrice\n",
    "max_indices = matrix3.argmax(axis=0)\n",
    "print('Indici dei massimi:\\n', max_indices) "
   ]
  },
  {
   "cell_type": "markdown",
   "metadata": {
    "editable": false
   },
   "source": [
    "# Il classificatore Bayesiano parametrico\n",
    "Implementare un classificatore di Bayes parametrico (multinormale) per stimare il genere di un individuo con peso e altezza rispettivamente pari a 57kg e 168cm."
   ]
  },
  {
   "cell_type": "markdown",
   "metadata": {
    "editable": false
   },
   "source": [
    "## Import delle librerie\n",
    "Il primo passo consiste nell'eseguire l'import delle librerie utilizzate.\n",
    "\n",
    "Oltre alle librerie Numpy e Matplotlib, si dovranno importare due ulteriori librerie che verranno utilizzate per la visualizzazione dei risultati (**itertools**, **ml_visualization**)."
   ]
  },
  {
   "cell_type": "code",
   "execution_count": 2,
   "metadata": {},
   "outputs": [],
   "source": [
    "import matplotlib.pyplot as plt  # Matplotlib, per la visualizzazione dei risultati\n",
    "import matplotlib  # Import del package principale, contenente costanti utili\n",
    "import numpy as np  # Numpy\n",
    "import itertools\n",
    "\n",
    "import ml_visualization"
   ]
  },
  {
   "cell_type": "markdown",
   "metadata": {
    "editable": false
   },
   "source": [
    "## Definizione del training set e del pattern di test\n",
    "I dati riportati in tabella rappresentano il training set con cui verrà addestrato il classificatore (le classi *Maschio* e *Femmina* sono qui denominate rispettivamente *W1* e *W2*).\n",
    "<img src=\"Tabella_trainingset.png\" alt=\"Tabella training set\" style=\"width: 250px;\"/>\n",
    "\n",
    "Di seguito la definizione del training set e del pattern di test e la relativa visualizzazione su un piano cartesiano."
   ]
  },
  {
   "cell_type": "code",
   "execution_count": 3,
   "metadata": {
    "scrolled": true
   },
   "outputs": [
    {
     "data": {
      "image/png": "[encoded data removed]",
      "text/plain": [
       "<Figure size 800x800 with 1 Axes>"
      ]
     },
     "metadata": {},
     "output_type": "display_data"
    }
   ],
   "source": [
    "# Definizione del training set\n",
    "patterns_W1 = np.array([[72, 173], [54, 159], [65, 172], [58, 170],\n",
    "                        [62, 165], [72, 176], [60, 173], [64, 179]])\n",
    "patterns_W2 = np.array([[55, 166], [46, 158], [52, 158], [47, 160], [55, 167],\n",
    "                        [54, 166], [55, 164], [49, 157], [51, 165], [51, 162]])\n",
    "\n",
    "# Definizione del pattern di test\n",
    "X = np.array([57, 168])\n",
    "\n",
    "# Visualizzazione dei dati. Il pattern di test è visualizzato in grigio\n",
    "plt.scatter(patterns_W1[:, 0], patterns_W1[:, 1], c='#0000FF')\n",
    "plt.scatter(patterns_W2[:, 0], patterns_W2[:, 1], c='#FF0000')\n",
    "plt.scatter(X[0], X[1], c='#888888')\n",
    "plt.xlabel('Peso')\n",
    "plt.ylabel('Altezza')\n",
    "plt.show()\n",
    "\n",
    "# Calcolo del numero di pattern per le due classi\n",
    "pattern_count_W1 = patterns_W1.shape[0]\n",
    "pattern_count_W2 = patterns_W2.shape[0]"
   ]
  },
  {
   "cell_type": "markdown",
   "metadata": {
    "editable": false
   },
   "source": [
    "## Calcolo del vettore medio\n",
    "Si completi la funzione **compute_mean(...)** senza utilizzare la funzione **mean(...)** di Numpy. Questa deve restituire il vettore medio di un insieme di pattern di input.\n",
    "\n",
    "Il vettore medio è dato da:\n",
    "\n",
    "$\\Large{\\boldsymbol{\\mu}=\\frac{1}{n}\\sum_{i=1..n}\\boldsymbol{x}_i}$"
   ]
  },
  {
   "cell_type": "code",
   "execution_count": 16,
   "metadata": {},
   "outputs": [
    {
     "name": "stdout",
     "output_type": "stream",
     "text": [
      "Vettore medio mu1: [ 63.375 170.875]\n",
      "Vettore medio mu2: [ 51.5 162.3]\n"
     ]
    }
   ],
   "source": [
    "# Esercizio 1: implementare il calcolo dei vettori medi\n",
    "def compute_mean(patterns):\n",
    "    mean = np.zeros(2)\n",
    "\n",
    "    patterns_count=patterns.shape[0]\n",
    "    mean=patterns.sum(axis=0)/patterns_count\n",
    "    \n",
    "    return mean\n",
    "\n",
    "\n",
    "# Calcolo dei vettori medi\n",
    "mu_W1 = compute_mean(patterns_W1)\n",
    "mu_W2 = compute_mean(patterns_W2)\n",
    "\n",
    "print('Vettore medio mu1:', mu_W1)\n",
    "print('Vettore medio mu2:', mu_W2)"
   ]
  },
  {
   "cell_type": "markdown",
   "metadata": {
    "editable": false
   },
   "source": [
    "## Calcolo della matrice di covarianza\n",
    "Si completi la funzione **compute_covariance_matrix(...)** senza utilizzare la funzione **cov(...)** di Numpy. Questa deve restituire la matrice di covarianza di un insieme di pattern di input dato il vettore medio.\n",
    "\n",
    "La matrice di covarianza è data da:\n",
    "\n",
    "$\\Large{\\boldsymbol{\\Sigma}=\\frac{1}{n}\\sum_{i=1..n}(\\boldsymbol{x}_i-\\boldsymbol{\\mu})(\\boldsymbol{x}_i-\\boldsymbol{\\mu})^t}$"
   ]
  },
  {
   "cell_type": "code",
   "execution_count": 63,
   "metadata": {},
   "outputs": [
    {
     "name": "stdout",
     "output_type": "stream",
     "text": [
      "Matrice di covarianza per W1:\n",
      " [[35.234375 23.296875]\n",
      " [23.296875 34.859375]]\n",
      "\n",
      "Matrice di covarianza per W2:\n",
      " [[10.05  8.85]\n",
      " [ 8.85 13.01]]\n"
     ]
    }
   ],
   "source": [
    "# Esercizio 2: implementare il calcolo delle matrici di covarianza\n",
    "def compute_covariance_matrix(patterns, mean):\n",
    "    return ((patterns-mean).T @ (patterns - mean)) / len(patterns)\n",
    "\n",
    "\n",
    "# Calcolo delle matrici di covarianza\n",
    "cov_mat_W1 = compute_covariance_matrix(patterns_W1, mu_W1)\n",
    "cov_mat_W2 = compute_covariance_matrix(patterns_W2, mu_W2)\n",
    "\n",
    "print('Matrice di covarianza per W1:\\n', cov_mat_W1)\n",
    "print('\\nMatrice di covarianza per W2:\\n', cov_mat_W2)"
   ]
  },
  {
   "cell_type": "markdown",
   "metadata": {
    "editable": false
   },
   "source": [
    "## Calcolo della densità di probabilità condizionale\n",
    "Prima di poter calcolare la densità di probabilità condizionale è necessario calcolare la matrice inversa e il determinante delle due matrici di covarianza."
   ]
  },
  {
   "cell_type": "code",
   "execution_count": 65,
   "metadata": {},
   "outputs": [
    {
     "name": "stdout",
     "output_type": "stream",
     "text": [
      "Determinante cov_mat_W1: 685.5039062500001\n",
      "Determinante cov_mat_W2: 52.42800000000001\n",
      "Inversa cov_mat_W1:\n",
      " [[ 0.05085219 -0.03398504]\n",
      " [-0.03398504  0.05139923]]\n",
      "\n",
      "Inversa cov_mat_W2:\n",
      " [[ 0.24814984 -0.16880293]\n",
      " [-0.16880293  0.19169146]]\n"
     ]
    }
   ],
   "source": [
    "# Determinanti delle matrici di covarianza\n",
    "det_cov_mat_W1 = np.linalg.det(cov_mat_W1)\n",
    "det_cov_mat_W2 = np.linalg.det(cov_mat_W2)\n",
    "print('Determinante cov_mat_W1:', det_cov_mat_W1)\n",
    "print('Determinante cov_mat_W2:', det_cov_mat_W2)\n",
    "\n",
    "# Inverse delle matrici di covarianza\n",
    "inv_cov_mat_W1 = np.linalg.inv(cov_mat_W1)\n",
    "inv_cov_mat_W2 = np.linalg.inv(cov_mat_W2)\n",
    "print('Inversa cov_mat_W1:\\n', inv_cov_mat_W1)\n",
    "print('\\nInversa cov_mat_W2:\\n', inv_cov_mat_W2)"
   ]
  },
  {
   "cell_type": "markdown",
   "metadata": {
    "editable": false
   },
   "source": [
    "Si implementi la funzione **compute_density(...)** che calcoli la densità di probabilità condizionale di un pattern $\\textit{x}$ dati il vettore medio *mean*, l'inversa della matrice di covarianza *inv_cov_matrix* e il determinante *det*.\n",
    "\n",
    "La formula per il calcolo della densità di probabilità condizionale è:\n",
    "\n",
    "\n",
    "$\\Large{p(\\boldsymbol{x}|w_i)=\\frac{1}{(2π)^{d/2} |\\boldsymbol{\\Sigma}_i|^{1/2}}e^{-\\frac{1}{2}(\\boldsymbol{x}-\\boldsymbol{\\mu}_i)^t \\boldsymbol{\\Sigma}_i^{-1} (\\boldsymbol{x}-\\boldsymbol{\\mu}_i)}}$"
   ]
  },
  {
   "cell_type": "code",
   "execution_count": 83,
   "metadata": {},
   "outputs": [
    {
     "name": "stdout",
     "output_type": "stream",
     "text": [
      "Densità di probabilità condizionale p(X|w1) =  0.003260652456957731\n",
      "Densità di probabilità condizionale p(X|w2) =  0.00454867265331388\n"
     ]
    }
   ],
   "source": [
    "# Esercizio 3: implementare il calcolo delle densità di probabilità condizionali\n",
    "def compute_density(x, mean, inv_cov_matrix, det):\n",
    "    # Costante pi greca: np.pi\n",
    "    d = 2\n",
    "    # Σ = matrice di covarianza\n",
    "    # np.exp(5) = e⁵ (calcolo esponenziale)\n",
    "    # |Σ| = determinante della matrice di covarianza\n",
    "    # Σ⁻¹ = inversa della matrice di covarianza\n",
    "    # ...\n",
    "    diff_row= x - mean\n",
    "    diff_row = diff_row.reshape(1,2)\n",
    "    diff_column = diff_row.T\n",
    "    \n",
    "    denominator = 2*np.pi*np.sqrt(det)\n",
    "    numerator=np.exp(-0.5 * diff_row @ (inv_cov_matrix @ diff_column)).item()\n",
    "    \n",
    "    return numerator/denominator\n",
    "    \n",
    "# Densità di probabilità condizionali\n",
    "p_X_W1 = compute_density(X, mu_W1, inv_cov_mat_W1, det_cov_mat_W1)\n",
    "p_X_W2 = compute_density(X, mu_W2, inv_cov_mat_W2, det_cov_mat_W2)\n",
    "\n",
    "print('Densità di probabilità condizionale p(X|w1) = ', p_X_W1)\n",
    "print('Densità di probabilità condizionale p(X|w2) = ', p_X_W2)"
   ]
  },
  {
   "cell_type": "markdown",
   "metadata": {
    "editable": false
   },
   "source": [
    "## Probabilità a posteriori\n",
    "Prima di porter calcolare la probabilità a posteriori $\\large{P(w_{i} | \\boldsymbol{x})}$ è necessario stimare:\n",
    "- la probabilità a priori;\n",
    "- la densità di probabilità assoluta."
   ]
  },
  {
   "cell_type": "markdown",
   "metadata": {
    "editable": false
   },
   "source": [
    "### Probabilità a priori\n",
    "La probabilità a priori può essere stimata utilizzando la formula seguente:\n",
    "\n",
    "$\\large{P(w_i)=\\frac{|w_i |}{|W|}}$ "
   ]
  },
  {
   "cell_type": "code",
   "execution_count": 88,
   "metadata": {},
   "outputs": [
    {
     "name": "stdout",
     "output_type": "stream",
     "text": [
      "Probabilità a priori p(w1) =  0.4444444444444444\n",
      "Probabilità a priori p(w2) =  0.5555555555555556\n"
     ]
    }
   ],
   "source": [
    "# Probabilità a priori\n",
    "all_patterns_count = pattern_count_W1 + pattern_count_W2\n",
    "p_W1 = pattern_count_W1 / all_patterns_count\n",
    "p_W2 = pattern_count_W2 / all_patterns_count\n",
    "\n",
    "print('Probabilità a priori p(w1) = ', p_W1)\n",
    "print('Probabilità a priori p(w2) = ', p_W2)"
   ]
  },
  {
   "cell_type": "markdown",
   "metadata": {
    "editable": false
   },
   "source": [
    "### Densità di probabilità assoluta\n",
    "La densità di probabilità assoluta può essere calcolata come:\n",
    "\n",
    "$\\Large{p(\\boldsymbol{x})=\\sum_{i=1}^s p(\\boldsymbol{x}|w_i)P(w_i)}$"
   ]
  },
  {
   "cell_type": "code",
   "execution_count": 89,
   "metadata": {},
   "outputs": [
    {
     "name": "stdout",
     "output_type": "stream",
     "text": [
      "Densità di probabilità assoluta p(X) =  0.003976219232711147\n"
     ]
    }
   ],
   "source": [
    "# Densità di probabilità assoluta\n",
    "p_x = p_X_W1 * p_W1 + p_X_W2 * p_W2\n",
    "print('Densità di probabilità assoluta p(X) = ', p_x)"
   ]
  },
  {
   "cell_type": "markdown",
   "metadata": {
    "editable": false
   },
   "source": [
    "Infine la probabilità a posteriori può essere stimata come: \n",
    "\n",
    "$\\Large{P(w_i|\\boldsymbol{x})=\\frac{p(\\boldsymbol{x}|w_i )P(w_i )}{p(\\boldsymbol{x})}}$"
   ]
  },
  {
   "cell_type": "code",
   "execution_count": 90,
   "metadata": {},
   "outputs": [
    {
     "name": "stdout",
     "output_type": "stream",
     "text": [
      "Probabilità a posteriori p(w1|X) =  0.3644615110346626\n",
      "Probabilità a posteriori p(w2|X) =  0.6355384889653375\n"
     ]
    }
   ],
   "source": [
    "# Probabilità a posteriori\n",
    "p_W1_X = p_X_W1 * p_W1 / p_x\n",
    "p_W2_X = p_X_W2 * p_W2 / p_x\n",
    "\n",
    "print('Probabilità a posteriori p(w1|X) = ', p_W1_X)\n",
    "print('Probabilità a posteriori p(w2|X) = ', p_W2_X)"
   ]
  },
  {
   "cell_type": "markdown",
   "metadata": {
    "editable": false
   },
   "source": [
    "Il pattern di test è assegnato alla classe *b* per cui è massima la probabilità a posteriori:\n",
    "\n",
    "$\\Large{b=\\underset{i=1..s}{\\arg\\max}\\{P(w_i|\\boldsymbol{x})\\}}$\n",
    "\n",
    "In questo caso il pattern è assegnato alla classe *W2 (Femmine)*, essendo $\\large{P(w_2|\\boldsymbol{x}) > P(w_1|\\boldsymbol{x})}$.\n",
    "\n",
    "## Visualizzazione dei risultati\n",
    "Di seguito è proposta una rappresentazione grafica dei risultati ottenuti. Il codice crea un piano cartesiano in cui sono visualizzati:\n",
    "1. I pattern del training set, di colore blu per i \"Maschi\" e di colore rosso per le \"Femmine\";\n",
    "2. Il pattern di test, di colore grigio;\n",
    "3. Uno sfondo che rappresenta la probabilità a posteriori nelle diverse parti del piano."
   ]
  },
  {
   "cell_type": "code",
   "execution_count": 91,
   "metadata": {
    "tags": []
   },
   "outputs": [
    {
     "data": {
      "image/png": "[encoded data removed]",
      "text/plain": [
       "<Figure size 800x800 with 1 Axes>"
      ]
     },
     "metadata": {},
     "output_type": "display_data"
    }
   ],
   "source": [
    "def calculate_probability_map(means, inv_covariance_matrices, det_cov_matrices, prior_probabilities,\n",
    "                              x_min, x_max, y_min, y_max, step):\n",
    "    x_range = np.arange(x_min, x_max, step)\n",
    "    y_range = np.arange(y_min, y_max, step)\n",
    "\n",
    "    probability_map = np.zeros((y_range.shape[0], x_range.shape[0]))\n",
    "\n",
    "    for i, j in itertools.product(range(y_range.shape[0]), range(x_range.shape[0])):\n",
    "        p = np.array([x_range[j], y_range[i]])\n",
    "        densities = np.array(\n",
    "            [compute_density(p, means[i], inv_covariance_matrices[i], det_cov_matrices[i]) for i in range(len(means))])\n",
    "        px = (densities * prior_probabilities).sum()\n",
    "        probabilities = np.array([densities[i] * prior_probabilities[i] / px for i in range(0, len(means))])\n",
    "        probability_map[i, j] = probabilities[0]\n",
    "\n",
    "    return probability_map, x_range, y_range\n",
    "\n",
    "\n",
    "# Calcolo delle aree di probabilità\n",
    "x_min, x_max, y_min, y_max = ml_visualization.calculate_2D_min_max(np.concatenate((patterns_W1, patterns_W2)), 5)\n",
    "probability_map, x_range, y_range = calculate_probability_map(np.array([mu_W1, mu_W2]),\n",
    "                                                            np.array([inv_cov_mat_W1, inv_cov_mat_W2]),\n",
    "                                                            np.array([det_cov_mat_W1, det_cov_mat_W2]),\n",
    "                                                            np.array([p_W1, p_W2]),\n",
    "                                                            x_min, x_max, y_min, y_max, 0.25)\n",
    "\n",
    "# Disegno delle aree di probabilità\n",
    "colors = ml_visualization.get_colors_from_colormap(plt.cm.RdBu, 0.001)\n",
    "ml_visualization.decisionboundaries_drawing(0, x_range, y_range, probability_map, matplotlib.colors.ListedColormap(colors))\n",
    "\n",
    "# Plotting dei patterns\n",
    "ml_visualization.plotting_patterns(0, patterns_W1, '#0000FF', 36)\n",
    "ml_visualization.plotting_patterns(0, patterns_W2, '#FF0000', 36)\n",
    "ml_visualization.plotting_patterns(0, np.array([X]), '#888888', 36)\n",
    "\n",
    "# Disegno della legenda\n",
    "colors = ['#0000FF', '#FF0000']\n",
    "labels = ['Maschi', 'Femmine']\n",
    "ml_visualization.legend_drawing(0, colors, labels, 2)\n",
    "\n",
    "plt.show()"
   ]
  },
  {
   "cell_type": "code",
   "execution_count": null,
   "metadata": {},
   "outputs": [],
   "source": []
  }
 ],
 "metadata": {
  "kernelspec": {
   "display_name": "Python 3 (ipykernel)",
   "language": "python",
   "name": "python3"
  },
  "language_info": {
   "codemirror_mode": {
    "name": "ipython",
    "version": 3
   },
   "file_extension": ".py",
   "mimetype": "text/x-python",
   "name": "python",
   "nbconvert_exporter": "python",
   "pygments_lexer": "ipython3",
   "version": "3.11.3"
  }
 },
 "nbformat": 4,
 "nbformat_minor": 4
}
